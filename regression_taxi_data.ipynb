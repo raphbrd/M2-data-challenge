{
 "cells": [
  {
   "cell_type": "code",
   "execution_count": 1,
   "id": "c7b0865fc0e5cc4f",
   "metadata": {
    "ExecuteTime": {
     "end_time": "2024-10-07T11:34:32.281364Z",
     "start_time": "2024-10-07T11:34:32.264916Z"
    },
    "collapsed": false
   },
   "outputs": [],
   "source": [
    "import pandas as pd\n",
    "import numpy as np\n",
    "import pyarrow.parquet as pq\n",
    "import seaborn as sns\n",
    "import matplotlib.pyplot as plt\n",
    "from sklearn.model_selection import train_test_split\n",
    "from sklearn.preprocessing import StandardScaler\n",
    "from sklearn.linear_model import Lasso, Ridge\n",
    "from sklearn.linear_model import LassoCV, RidgeCV\n",
    "from utils import *\n",
    "from sklearn.metrics import mean_squared_error, r2_score"
   ]
  },
  {
   "cell_type": "code",
   "execution_count": 13,
   "id": "b235b4df69d94868",
   "metadata": {
    "ExecuteTime": {
     "end_time": "2024-10-07T11:34:32.348975Z",
     "start_time": "2024-10-07T11:34:32.283326Z"
    },
    "collapsed": false
   },
   "outputs": [
    {
     "data": {
      "text/plain": [
       "Index(['passenger_count', 'trip_distance', 'fare_amount', 'extra', 'mta_tax',\n",
       "       'tolls_amount', 'improvement_surcharge', 'congestion_surcharge',\n",
       "       'Airport_fee', 'PU_location_lat', 'PU_location_lon', 'DO_location_lat',\n",
       "       'DO_location_lon', 'is_rush_hour', 'duration', 'PU_loc', 'DO_loc',\n",
       "       'VendorID_1', 'VendorID_2', 'RatecodeID_1.0', 'RatecodeID_2.0',\n",
       "       'RatecodeID_3.0', 'RatecodeID_4.0', 'RatecodeID_5.0', 'RatecodeID_99.0',\n",
       "       'store_and_fwd_flag_N', 'store_and_fwd_flag_Y', 'payment_type_1',\n",
       "       'payment_type_2', 'payment_type_3', 'payment_type_4', 'PU_borough_7',\n",
       "       'PU_borough_1', 'PU_borough_3', 'PU_borough_4', 'PU_borough_2',\n",
       "       'PU_borough_6', 'PU_borough_5', 'DO_borough_7', 'DO_borough_1',\n",
       "       'DO_borough_3', 'DO_borough_4', 'DO_borough_2', 'DO_borough_6',\n",
       "       'DO_borough_5'],\n",
       "      dtype='object')"
      ]
     },
     "metadata": {},
     "output_type": "display_data"
    }
   ],
   "source": [
    "df_train = pd.read_parquet(\"data/nyc-taxis-tips/train_preprocessed.parquet\")\n",
    "X = df_train.drop(\"tip_amount\", axis=1)\n",
    "Y = df_train['tip_amount']\n",
    "display(X.columns)"
   ]
  },
  {
   "cell_type": "markdown",
   "id": "cbede8f09e3176d7",
   "metadata": {
    "collapsed": false
   },
   "source": [
    "# Ridge regression\n",
    "\n",
    "All this code is from TP_reg-1 (copy paste for clarity in a separate notebook without exploratory data analysis)"
   ]
  },
  {
   "cell_type": "code",
   "execution_count": 26,
   "id": "26750e021654962a",
   "metadata": {
    "ExecuteTime": {
     "end_time": "2024-10-07T11:34:32.384197Z",
     "start_time": "2024-10-07T11:34:32.350766Z"
    },
    "collapsed": false
   },
   "outputs": [
    {
     "name": "stdout",
     "output_type": "stream",
     "text": [
      "Index(['passenger_count', 'trip_distance', 'fare_amount', 'extra', 'mta_tax',\n",
      "       'tolls_amount', 'improvement_surcharge', 'congestion_surcharge',\n",
      "       'Airport_fee', 'PU_location_lat', 'PU_location_lon', 'DO_location_lat',\n",
      "       'DO_location_lon', 'is_rush_hour', 'duration', 'PU_loc', 'DO_loc',\n",
      "       'VendorID_1', 'VendorID_2', 'RatecodeID_1.0', 'RatecodeID_2.0',\n",
      "       'RatecodeID_3.0', 'RatecodeID_4.0', 'RatecodeID_5.0', 'RatecodeID_99.0',\n",
      "       'store_and_fwd_flag_N', 'store_and_fwd_flag_Y', 'payment_type_1',\n",
      "       'payment_type_2', 'payment_type_3', 'payment_type_4', 'PU_borough_7',\n",
      "       'PU_borough_1', 'PU_borough_3', 'PU_borough_4', 'PU_borough_2',\n",
      "       'PU_borough_6', 'PU_borough_5', 'DO_borough_7', 'DO_borough_1',\n",
      "       'DO_borough_3', 'DO_borough_4', 'DO_borough_2', 'DO_borough_6',\n",
      "       'DO_borough_5'],\n",
      "      dtype='object')\n",
      "(75000, 45) (25000, 45)\n"
     ]
    }
   ],
   "source": [
    "# divise les données \n",
    "X_train, X_test, y_train, y_test = train_test_split(X, Y, test_size=0.25, random_state=42)\n",
    "print(X_train.columns)\n",
    "print(X_train.shape, X_test.shape)"
   ]
  },
  {
   "cell_type": "code",
   "execution_count": 29,
   "id": "b7a26c97f1dfb962",
   "metadata": {
    "ExecuteTime": {
     "end_time": "2024-10-07T11:34:32.437402Z",
     "start_time": "2024-10-07T11:34:32.384929Z"
    },
    "collapsed": false
   },
   "outputs": [],
   "source": [
    "# normaliser les données \n",
    "\n",
    "# Séparation des colonnes encodées (one-hot encoded) et des colonnes numériques à normaliser\n",
    "columns_to_norm = [\n",
    "    'passenger_count',\n",
    "    'trip_distance', 'fare_amount', 'extra', 'mta_tax', 'tolls_amount',\n",
    "    'improvement_surcharge', 'congestion_surcharge', 'Airport_fee','duration'\n",
    "]\n",
    "\n",
    "cols_to_exclude = [\n",
    "    'PU_location_lat', 'PU_location_lon', 'DO_location_lat',\n",
    "    'DO_location_lon', 'PU_loc', 'DO_loc'\n",
    "]\n",
    "\n",
    "# Copie des colonnes à exclure pour les conserver\n",
    "X_train_excluded = X_train[cols_to_exclude]\n",
    "X_test_excluded = X_test[cols_to_exclude]\n",
    "\n",
    "\n",
    "X_train = X_train.drop(cols_to_exclude, axis=1)\n",
    "X_test = X_test.drop(cols_to_exclude, axis=1)\n",
    "\n",
    "# Normaliser les colonnes numériques de l'ensemble d'entraînement\n",
    "scaler = StandardScaler()\n",
    "X_train_normed = X_train.copy()\n",
    "X_test_normed = X_test.copy()\n",
    "\n",
    "# Normalisation sur l'ensemble d'entraînement\n",
    "X_train_normed[columns_to_norm] = scaler.fit_transform(X_train[columns_to_norm])\n",
    "\n",
    "# Appliquer la même transformation sur l'ensemble de test\n",
    "X_test_normed[columns_to_norm] = scaler.transform(X_test[columns_to_norm])\n",
    "\n",
    "\n",
    "# Réintégrer les colonnes exclues dans les ensembles normalisés\n",
    "X_train_normed = pd.concat([X_train_normed, X_train_excluded], axis=1)\n",
    "X_test_normed = pd.concat([X_test_normed, X_test_excluded], axis=1)"
   ]
  },
  {
   "cell_type": "code",
   "execution_count": 30,
   "id": "9302e182",
   "metadata": {},
   "outputs": [
    {
     "data": {
      "text/plain": [
       "(75000, 45)"
      ]
     },
     "execution_count": 30,
     "metadata": {},
     "output_type": "execute_result"
    }
   ],
   "source": [
    "X_train_normed.shape"
   ]
  },
  {
   "cell_type": "code",
   "execution_count": 31,
   "id": "95988380d28642ef",
   "metadata": {
    "ExecuteTime": {
     "end_time": "2024-10-07T11:34:34.795025Z",
     "start_time": "2024-10-07T11:34:32.438685Z"
    },
    "collapsed": false
   },
   "outputs": [
    {
     "name": "stdout",
     "output_type": "stream",
     "text": [
      "Mean Squared Error (MSE): 5.301127959136622\n",
      "Coefficient de détermination (R2 Score): 0.6112175433047391\n",
      "meilleur alpha :  15.0\n"
     ]
    }
   ],
   "source": [
    "# Modèle Ridge : \n",
    "model_ridge_CV = RidgeCV(alphas=np.linspace(15, 25, 100))\n",
    "model_ridge_CV.fit(X_train_normed, y_train)\n",
    "y_pred = model_ridge_CV.predict(X_test_normed)\n",
    "\n",
    "mse = mean_squared_error(y_test, y_pred)\n",
    "r2 = r2_score(y_test, y_pred)\n",
    "\n",
    "# Affichage des résultats\n",
    "print(\"Mean Squared Error (MSE):\", mse)\n",
    "print(\"Coefficient de détermination (R2 Score):\", r2)\n",
    "print(\"meilleur alpha : \", model_ridge_CV.alpha_)"
   ]
  },
  {
   "cell_type": "code",
   "execution_count": 41,
   "id": "6dc989b97f26cc0c",
   "metadata": {
    "ExecuteTime": {
     "end_time": "2024-10-07T11:34:42.113334Z",
     "start_time": "2024-10-07T11:34:39.953091Z"
    },
    "collapsed": false
   },
   "outputs": [
    {
     "name": "stdout",
     "output_type": "stream",
     "text": [
      "Index(['passenger_count', 'trip_distance', 'fare_amount', 'extra', 'mta_tax',\n",
      "       'tolls_amount', 'improvement_surcharge', 'congestion_surcharge',\n",
      "       'Airport_fee', 'is_rush_hour', 'duration', 'VendorID_1', 'VendorID_2',\n",
      "       'RatecodeID_1.0', 'RatecodeID_2.0', 'RatecodeID_3.0', 'RatecodeID_4.0',\n",
      "       'RatecodeID_5.0', 'RatecodeID_99.0', 'store_and_fwd_flag_N',\n",
      "       'store_and_fwd_flag_Y', 'payment_type_1', 'payment_type_2',\n",
      "       'payment_type_3', 'payment_type_4', 'PU_borough_7', 'PU_borough_1',\n",
      "       'PU_borough_3', 'PU_borough_4', 'PU_borough_2', 'PU_borough_6',\n",
      "       'PU_borough_5', 'DO_borough_7', 'DO_borough_1', 'DO_borough_3',\n",
      "       'DO_borough_4', 'DO_borough_2', 'DO_borough_6', 'DO_borough_5',\n",
      "       'PU_location_lat', 'PU_location_lon', 'DO_location_lat',\n",
      "       'DO_location_lon', 'PU_loc', 'DO_loc'],\n",
      "      dtype='object')\n"
     ]
    }
   ],
   "source": [
    "# test data for Kaggle submission\n",
    "test = pd.read_parquet(\"data/nyc-taxis-tips/test_preprocessed.parquet\")\n",
    "\n",
    "test.drop(columns=[\"RatecodeID_6.0\"], inplace=True)\n",
    "columns_to_norm = [\n",
    "    'passenger_count',\n",
    "    'trip_distance', 'fare_amount', 'extra', 'mta_tax', 'tolls_amount',\n",
    "    'improvement_surcharge', 'congestion_surcharge', 'Airport_fee', 'duration'\n",
    "]\n",
    "cols_to_exclude = [\n",
    "    'PU_location_lat', 'PU_location_lon', 'DO_location_lat',\n",
    "    'DO_location_lon', 'PU_loc', 'DO_loc'\n",
    "]\n",
    "\n",
    "X_sub_excluded = test[cols_to_exclude]\n",
    "X_sub = test.drop(cols_to_exclude, axis=1)\n",
    "\n",
    "X_sub[columns_to_norm] = scaler.transform(X_sub[columns_to_norm])\n",
    "\n",
    "X_sub = pd.concat([X_sub, X_sub_excluded], axis=1)\n",
    "print(X_sub.columns)\n",
    "\n",
    "predictions = model_ridge_CV.predict(X_sub)"
   ]
  },
  {
   "cell_type": "code",
   "execution_count": 42,
   "id": "3ac6277e0c6ff177",
   "metadata": {
    "ExecuteTime": {
     "end_time": "2024-10-07T11:43:42.490483Z",
     "start_time": "2024-10-07T11:43:42.293265Z"
    },
    "collapsed": false
   },
   "outputs": [
    {
     "data": {
      "text/html": [
       "<div>\n",
       "<style scoped>\n",
       "    .dataframe tbody tr th:only-of-type {\n",
       "        vertical-align: middle;\n",
       "    }\n",
       "\n",
       "    .dataframe tbody tr th {\n",
       "        vertical-align: top;\n",
       "    }\n",
       "\n",
       "    .dataframe thead th {\n",
       "        text-align: right;\n",
       "    }\n",
       "</style>\n",
       "<table border=\"1\" class=\"dataframe\">\n",
       "  <thead>\n",
       "    <tr style=\"text-align: right;\">\n",
       "      <th></th>\n",
       "      <th>row_ID</th>\n",
       "      <th>tip_amount</th>\n",
       "    </tr>\n",
       "  </thead>\n",
       "  <tbody>\n",
       "    <tr>\n",
       "      <th>0</th>\n",
       "      <td>0</td>\n",
       "      <td>8.488385</td>\n",
       "    </tr>\n",
       "    <tr>\n",
       "      <th>1</th>\n",
       "      <td>1</td>\n",
       "      <td>3.182401</td>\n",
       "    </tr>\n",
       "    <tr>\n",
       "      <th>2</th>\n",
       "      <td>2</td>\n",
       "      <td>3.712316</td>\n",
       "    </tr>\n",
       "    <tr>\n",
       "      <th>3</th>\n",
       "      <td>3</td>\n",
       "      <td>4.468453</td>\n",
       "    </tr>\n",
       "    <tr>\n",
       "      <th>4</th>\n",
       "      <td>4</td>\n",
       "      <td>3.227029</td>\n",
       "    </tr>\n",
       "    <tr>\n",
       "      <th>5</th>\n",
       "      <td>5</td>\n",
       "      <td>5.865678</td>\n",
       "    </tr>\n",
       "    <tr>\n",
       "      <th>6</th>\n",
       "      <td>6</td>\n",
       "      <td>3.200650</td>\n",
       "    </tr>\n",
       "    <tr>\n",
       "      <th>7</th>\n",
       "      <td>7</td>\n",
       "      <td>-0.762311</td>\n",
       "    </tr>\n",
       "    <tr>\n",
       "      <th>8</th>\n",
       "      <td>8</td>\n",
       "      <td>13.091551</td>\n",
       "    </tr>\n",
       "    <tr>\n",
       "      <th>9</th>\n",
       "      <td>9</td>\n",
       "      <td>3.811296</td>\n",
       "    </tr>\n",
       "    <tr>\n",
       "      <th>10</th>\n",
       "      <td>10</td>\n",
       "      <td>3.633079</td>\n",
       "    </tr>\n",
       "    <tr>\n",
       "      <th>11</th>\n",
       "      <td>11</td>\n",
       "      <td>2.968017</td>\n",
       "    </tr>\n",
       "    <tr>\n",
       "      <th>12</th>\n",
       "      <td>12</td>\n",
       "      <td>2.718012</td>\n",
       "    </tr>\n",
       "    <tr>\n",
       "      <th>13</th>\n",
       "      <td>13</td>\n",
       "      <td>2.781795</td>\n",
       "    </tr>\n",
       "    <tr>\n",
       "      <th>14</th>\n",
       "      <td>14</td>\n",
       "      <td>3.053660</td>\n",
       "    </tr>\n",
       "  </tbody>\n",
       "</table>\n",
       "</div>"
      ],
      "text/plain": [
       "    row_ID  tip_amount\n",
       "0        0    8.488385\n",
       "1        1    3.182401\n",
       "2        2    3.712316\n",
       "3        3    4.468453\n",
       "4        4    3.227029\n",
       "5        5    5.865678\n",
       "6        6    3.200650\n",
       "7        7   -0.762311\n",
       "8        8   13.091551\n",
       "9        9    3.811296\n",
       "10      10    3.633079\n",
       "11      11    2.968017\n",
       "12      12    2.718012\n",
       "13      13    2.781795\n",
       "14      14    3.053660"
      ]
     },
     "metadata": {},
     "output_type": "display_data"
    },
    {
     "name": "stdout",
     "output_type": "stream",
     "text": [
      "331722\n"
     ]
    }
   ],
   "source": [
    "df_pred = pd.DataFrame(predictions, columns=[\"tip_amount\"]).reset_index().rename(columns={\"index\": \"row_ID\"})\n",
    "display(df_pred.head(15))\n",
    "print(sum(df_pred[\"tip_amount\"]<0))\n",
    "df_pred.loc[df_pred.tip_amount < 0, \"tip_amount\"] = 0\n",
    "df_pred.to_parquet(\"submission/nyc-taxis-tips/regression_sub_1bis.parquet\", index=False)"
   ]
  },
  {
   "cell_type": "code",
   "execution_count": 38,
   "id": "105d6879",
   "metadata": {},
   "outputs": [
    {
     "data": {
      "text/plain": [
       "0"
      ]
     },
     "execution_count": 38,
     "metadata": {},
     "output_type": "execute_result"
    }
   ],
   "source": []
  },
  {
   "cell_type": "code",
   "execution_count": 43,
   "id": "e73aeb3e5cad03ed",
   "metadata": {
    "ExecuteTime": {
     "end_time": "2024-10-07T11:34:49.395583Z",
     "start_time": "2024-10-07T11:34:49.387655Z"
    },
    "collapsed": false
   },
   "outputs": [
    {
     "data": {
      "text/html": [
       "<div>\n",
       "<style scoped>\n",
       "    .dataframe tbody tr th:only-of-type {\n",
       "        vertical-align: middle;\n",
       "    }\n",
       "\n",
       "    .dataframe tbody tr th {\n",
       "        vertical-align: top;\n",
       "    }\n",
       "\n",
       "    .dataframe thead th {\n",
       "        text-align: right;\n",
       "    }\n",
       "</style>\n",
       "<table border=\"1\" class=\"dataframe\">\n",
       "  <thead>\n",
       "    <tr style=\"text-align: right;\">\n",
       "      <th></th>\n",
       "      <th>row_ID</th>\n",
       "      <th>tip_amount</th>\n",
       "    </tr>\n",
       "  </thead>\n",
       "  <tbody>\n",
       "    <tr>\n",
       "      <th>0</th>\n",
       "      <td>0</td>\n",
       "      <td>8.488385</td>\n",
       "    </tr>\n",
       "    <tr>\n",
       "      <th>1</th>\n",
       "      <td>1</td>\n",
       "      <td>3.182401</td>\n",
       "    </tr>\n",
       "    <tr>\n",
       "      <th>2</th>\n",
       "      <td>2</td>\n",
       "      <td>3.712316</td>\n",
       "    </tr>\n",
       "    <tr>\n",
       "      <th>3</th>\n",
       "      <td>3</td>\n",
       "      <td>4.468453</td>\n",
       "    </tr>\n",
       "    <tr>\n",
       "      <th>4</th>\n",
       "      <td>4</td>\n",
       "      <td>3.227029</td>\n",
       "    </tr>\n",
       "    <tr>\n",
       "      <th>5</th>\n",
       "      <td>5</td>\n",
       "      <td>5.865678</td>\n",
       "    </tr>\n",
       "    <tr>\n",
       "      <th>6</th>\n",
       "      <td>6</td>\n",
       "      <td>3.200650</td>\n",
       "    </tr>\n",
       "    <tr>\n",
       "      <th>7</th>\n",
       "      <td>7</td>\n",
       "      <td>0.000000</td>\n",
       "    </tr>\n",
       "    <tr>\n",
       "      <th>8</th>\n",
       "      <td>8</td>\n",
       "      <td>13.091551</td>\n",
       "    </tr>\n",
       "    <tr>\n",
       "      <th>9</th>\n",
       "      <td>9</td>\n",
       "      <td>3.811296</td>\n",
       "    </tr>\n",
       "    <tr>\n",
       "      <th>10</th>\n",
       "      <td>10</td>\n",
       "      <td>3.633079</td>\n",
       "    </tr>\n",
       "    <tr>\n",
       "      <th>11</th>\n",
       "      <td>11</td>\n",
       "      <td>2.968017</td>\n",
       "    </tr>\n",
       "    <tr>\n",
       "      <th>12</th>\n",
       "      <td>12</td>\n",
       "      <td>2.718012</td>\n",
       "    </tr>\n",
       "    <tr>\n",
       "      <th>13</th>\n",
       "      <td>13</td>\n",
       "      <td>2.781795</td>\n",
       "    </tr>\n",
       "    <tr>\n",
       "      <th>14</th>\n",
       "      <td>14</td>\n",
       "      <td>3.053660</td>\n",
       "    </tr>\n",
       "    <tr>\n",
       "      <th>15</th>\n",
       "      <td>15</td>\n",
       "      <td>4.229903</td>\n",
       "    </tr>\n",
       "    <tr>\n",
       "      <th>16</th>\n",
       "      <td>16</td>\n",
       "      <td>4.047440</td>\n",
       "    </tr>\n",
       "    <tr>\n",
       "      <th>17</th>\n",
       "      <td>17</td>\n",
       "      <td>3.530663</td>\n",
       "    </tr>\n",
       "    <tr>\n",
       "      <th>18</th>\n",
       "      <td>18</td>\n",
       "      <td>4.038961</td>\n",
       "    </tr>\n",
       "    <tr>\n",
       "      <th>19</th>\n",
       "      <td>19</td>\n",
       "      <td>0.000000</td>\n",
       "    </tr>\n",
       "    <tr>\n",
       "      <th>20</th>\n",
       "      <td>20</td>\n",
       "      <td>2.770256</td>\n",
       "    </tr>\n",
       "    <tr>\n",
       "      <th>21</th>\n",
       "      <td>21</td>\n",
       "      <td>0.000000</td>\n",
       "    </tr>\n",
       "    <tr>\n",
       "      <th>22</th>\n",
       "      <td>22</td>\n",
       "      <td>4.062231</td>\n",
       "    </tr>\n",
       "    <tr>\n",
       "      <th>23</th>\n",
       "      <td>23</td>\n",
       "      <td>4.567608</td>\n",
       "    </tr>\n",
       "    <tr>\n",
       "      <th>24</th>\n",
       "      <td>24</td>\n",
       "      <td>12.691105</td>\n",
       "    </tr>\n",
       "  </tbody>\n",
       "</table>\n",
       "</div>"
      ],
      "text/plain": [
       "    row_ID  tip_amount\n",
       "0        0    8.488385\n",
       "1        1    3.182401\n",
       "2        2    3.712316\n",
       "3        3    4.468453\n",
       "4        4    3.227029\n",
       "5        5    5.865678\n",
       "6        6    3.200650\n",
       "7        7    0.000000\n",
       "8        8   13.091551\n",
       "9        9    3.811296\n",
       "10      10    3.633079\n",
       "11      11    2.968017\n",
       "12      12    2.718012\n",
       "13      13    2.781795\n",
       "14      14    3.053660\n",
       "15      15    4.229903\n",
       "16      16    4.047440\n",
       "17      17    3.530663\n",
       "18      18    4.038961\n",
       "19      19    0.000000\n",
       "20      20    2.770256\n",
       "21      21    0.000000\n",
       "22      22    4.062231\n",
       "23      23    4.567608\n",
       "24      24   12.691105"
      ]
     },
     "execution_count": 43,
     "metadata": {},
     "output_type": "execute_result"
    }
   ],
   "source": [
    "df_pred.head(25)"
   ]
  },
  {
   "cell_type": "code",
   "execution_count": 44,
   "id": "58f6c6bba1152058",
   "metadata": {
    "ExecuteTime": {
     "end_time": "2024-10-07T11:34:52.567030Z",
     "start_time": "2024-10-07T11:34:51.757270Z"
    },
    "collapsed": false
   },
   "outputs": [
    {
     "data": {
      "text/plain": [
       "<Axes: xlabel='tip_amount', ylabel='Count'>"
      ]
     },
     "execution_count": 44,
     "metadata": {},
     "output_type": "execute_result"
    },
    {
     "data": {
      "image/png": "[encoded data removed]",
      "text/plain": [
       "<Figure size 640x480 with 1 Axes>"
      ]
     },
     "metadata": {},
     "output_type": "display_data"
    }
   ],
   "source": [
    "sns.histplot(df_pred, x=\"tip_amount\", bins=125)"
   ]
  },
  {
   "cell_type": "code",
   "execution_count": null,
   "id": "75931508",
   "metadata": {},
   "outputs": [],
   "source": []
  }
 ],
 "metadata": {
  "kernelspec": {
   "display_name": "Python 3",
   "language": "python",
   "name": "python3"
  },
  "language_info": {
   "codemirror_mode": {
    "name": "ipython",
    "version": 3
   },
   "file_extension": ".py",
   "mimetype": "text/x-python",
   "name": "python",
   "nbconvert_exporter": "python",
   "pygments_lexer": "ipython3",
   "version": "3.9.6"
  }
 },
 "nbformat": 4,
 "nbformat_minor": 5
}
