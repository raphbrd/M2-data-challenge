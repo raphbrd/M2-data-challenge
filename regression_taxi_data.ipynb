{
 "cells": [
  {
   "cell_type": "code",
   "execution_count": 1,
   "id": "c7b0865fc0e5cc4f",
   "metadata": {
    "ExecuteTime": {
     "end_time": "2024-10-07T11:34:32.281364Z",
     "start_time": "2024-10-07T11:34:32.264916Z"
    },
    "collapsed": false
   },
   "outputs": [],
   "source": [
    "import pandas as pd\n",
    "import numpy as np\n",
    "import pyarrow.parquet as pq\n",
    "import seaborn as sns\n",
    "import matplotlib.pyplot as plt\n",
    "from sklearn.model_selection import train_test_split\n",
    "from sklearn.preprocessing import StandardScaler\n",
    "from sklearn.linear_model import Lasso, Ridge\n",
    "from sklearn.linear_model import LassoCV, RidgeCV\n",
    "from utils import *\n",
    "from sklearn.metrics import mean_squared_error, r2_score\n",
    "from sklearn.metrics import root_mean_squared_error"
   ]
  },
  {
   "cell_type": "code",
   "execution_count": 2,
   "id": "b235b4df69d94868",
   "metadata": {
    "ExecuteTime": {
     "end_time": "2024-10-07T11:34:32.348975Z",
     "start_time": "2024-10-07T11:34:32.283326Z"
    },
    "collapsed": false
   },
   "outputs": [
    {
     "data": {
      "text/plain": [
       "Index(['passenger_count', 'trip_distance', 'fare_amount', 'extra', 'mta_tax',\n",
       "       'tolls_amount', 'improvement_surcharge', 'congestion_surcharge',\n",
       "       'Airport_fee', 'PU_location_lat', 'PU_location_lon', 'DO_location_lat',\n",
       "       'DO_location_lon', 'is_rush_hour', 'duration', 'PU_loc', 'DO_loc',\n",
       "       'VendorID_1', 'VendorID_2', 'RatecodeID_1.0', 'RatecodeID_2.0',\n",
       "       'RatecodeID_3.0', 'RatecodeID_4.0', 'RatecodeID_5.0', 'RatecodeID_99.0',\n",
       "       'store_and_fwd_flag_N', 'store_and_fwd_flag_Y', 'payment_type_1',\n",
       "       'payment_type_2', 'payment_type_3', 'payment_type_4', 'PU_borough_7',\n",
       "       'PU_borough_1', 'PU_borough_3', 'PU_borough_4', 'PU_borough_2',\n",
       "       'PU_borough_6', 'PU_borough_5', 'DO_borough_7', 'DO_borough_1',\n",
       "       'DO_borough_3', 'DO_borough_4', 'DO_borough_2', 'DO_borough_6',\n",
       "       'DO_borough_5'],\n",
       "      dtype='object')"
      ]
     },
     "metadata": {},
     "output_type": "display_data"
    }
   ],
   "source": [
    "df_train = pd.read_parquet(\"data/nyc-taxis-tips/train_preprocessed.parquet\")\n",
    "X = df_train.drop(\"tip_amount\", axis=1)\n",
    "Y = df_train['tip_amount']\n",
    "display(X.columns)"
   ]
  },
  {
   "cell_type": "markdown",
   "id": "cbede8f09e3176d7",
   "metadata": {
    "collapsed": false
   },
   "source": [
    "# Ridge regression\n",
    "\n",
    "All this code is from TP_reg-1 (copy paste for clarity in a separate notebook without exploratory data analysis)"
   ]
  },
  {
   "cell_type": "code",
   "execution_count": 3,
   "id": "26750e021654962a",
   "metadata": {
    "ExecuteTime": {
     "end_time": "2024-10-07T11:34:32.384197Z",
     "start_time": "2024-10-07T11:34:32.350766Z"
    },
    "collapsed": false
   },
   "outputs": [
    {
     "name": "stdout",
     "output_type": "stream",
     "text": [
      "Index(['passenger_count', 'trip_distance', 'fare_amount', 'extra', 'mta_tax',\n",
      "       'tolls_amount', 'improvement_surcharge', 'congestion_surcharge',\n",
      "       'Airport_fee', 'PU_location_lat', 'PU_location_lon', 'DO_location_lat',\n",
      "       'DO_location_lon', 'is_rush_hour', 'duration', 'PU_loc', 'DO_loc',\n",
      "       'VendorID_1', 'VendorID_2', 'RatecodeID_1.0', 'RatecodeID_2.0',\n",
      "       'RatecodeID_3.0', 'RatecodeID_4.0', 'RatecodeID_5.0', 'RatecodeID_99.0',\n",
      "       'store_and_fwd_flag_N', 'store_and_fwd_flag_Y', 'payment_type_1',\n",
      "       'payment_type_2', 'payment_type_3', 'payment_type_4', 'PU_borough_7',\n",
      "       'PU_borough_1', 'PU_borough_3', 'PU_borough_4', 'PU_borough_2',\n",
      "       'PU_borough_6', 'PU_borough_5', 'DO_borough_7', 'DO_borough_1',\n",
      "       'DO_borough_3', 'DO_borough_4', 'DO_borough_2', 'DO_borough_6',\n",
      "       'DO_borough_5'],\n",
      "      dtype='object')\n",
      "(75000, 45) (25000, 45)\n"
     ]
    }
   ],
   "source": [
    "# divise les données \n",
    "X_train, X_test, y_train, y_test = train_test_split(X, Y, test_size=0.25, random_state=42)\n",
    "print(X_train.columns)\n",
    "print(X_train.shape, X_test.shape)"
   ]
  },
  {
   "cell_type": "code",
   "execution_count": 4,
   "id": "b7a26c97f1dfb962",
   "metadata": {
    "ExecuteTime": {
     "end_time": "2024-10-07T11:34:32.437402Z",
     "start_time": "2024-10-07T11:34:32.384929Z"
    },
    "collapsed": false
   },
   "outputs": [],
   "source": [
    "# normaliser les données \n",
    "\n",
    "# Séparation des colonnes encodées (one-hot encoded) et des colonnes numériques à normaliser\n",
    "columns_to_norm = [\n",
    "    'passenger_count',\n",
    "    'trip_distance', 'fare_amount', 'extra', 'mta_tax', 'tolls_amount',\n",
    "    'improvement_surcharge', 'congestion_surcharge', 'Airport_fee','duration'\n",
    "]\n",
    "\n",
    "cols_to_exclude = [\n",
    "    'PU_location_lat', 'PU_location_lon', 'DO_location_lat',\n",
    "    'DO_location_lon', 'PU_loc', 'DO_loc'\n",
    "]\n",
    "\n",
    "# Copie des colonnes à exclure pour les conserver\n",
    "X_train_excluded = X_train[cols_to_exclude]\n",
    "X_test_excluded = X_test[cols_to_exclude]\n",
    "\n",
    "\n",
    "X_train = X_train.drop(cols_to_exclude, axis=1)\n",
    "X_test = X_test.drop(cols_to_exclude, axis=1)\n",
    "\n",
    "# Normaliser les colonnes numériques de l'ensemble d'entraînement\n",
    "scaler = StandardScaler()\n",
    "X_train_normed = X_train.copy()\n",
    "X_test_normed = X_test.copy()\n",
    "\n",
    "# Normalisation sur l'ensemble d'entraînement\n",
    "X_train_normed[columns_to_norm] = scaler.fit_transform(X_train[columns_to_norm])\n",
    "\n",
    "# Appliquer la même transformation sur l'ensemble de test\n",
    "X_test_normed[columns_to_norm] = scaler.transform(X_test[columns_to_norm])\n",
    "\n",
    "\n",
    "# Réintégrer les colonnes exclues dans les ensembles normalisés\n",
    "X_train_normed = pd.concat([X_train_normed, X_train_excluded], axis=1)\n",
    "X_test_normed = pd.concat([X_test_normed, X_test_excluded], axis=1)"
   ]
  },
  {
   "cell_type": "code",
   "execution_count": 5,
   "id": "9302e182",
   "metadata": {},
   "outputs": [
    {
     "data": {
      "text/plain": [
       "(75000, 45)"
      ]
     },
     "execution_count": 5,
     "metadata": {},
     "output_type": "execute_result"
    }
   ],
   "source": [
    "X_train_normed.shape"
   ]
  },
  {
   "cell_type": "code",
   "execution_count": 7,
   "id": "95988380d28642ef",
   "metadata": {
    "ExecuteTime": {
     "end_time": "2024-10-07T11:34:34.795025Z",
     "start_time": "2024-10-07T11:34:32.438685Z"
    },
    "collapsed": false
   },
   "outputs": [
    {
     "name": "stdout",
     "output_type": "stream",
     "text": [
      "Mean Squared Error (MSE): 5.301127959136622\n",
      "Coefficient de détermination (R2 Score): 0.6112175433047391\n",
      "meilleur alpha :  15.0\n"
     ]
    }
   ],
   "source": [
    "# Modèle Ridge : \n",
    "model_ridge_CV = RidgeCV(alphas=np.linspace(15, 25, 100))\n",
    "model_ridge_CV.fit(X_train_normed, y_train)\n",
    "y_pred = model_ridge_CV.predict(X_test_normed)\n",
    "\n",
    "mse = root_mean_squared_error(y_test, y_pred)\n",
    "r2 = r2_score(y_test, y_pred)\n",
    "\n",
    "# Affichage des résultats\n",
    "print(\"Mean Squared Error (MSE):\", mse)\n",
    "print(\"Coefficient de détermination (R2 Score):\", r2)\n",
    "print(\"meilleur alpha : \", model_ridge_CV.alpha_)"
   ]
  },
  {
   "cell_type": "markdown",
   "id": "d6bacb78",
   "metadata": {},
   "source": [
    "# Random Forest Regressor"
   ]
  },
  {
   "cell_type": "code",
   "execution_count": 8,
   "id": "ec8440e2",
   "metadata": {},
   "outputs": [
    {
     "name": "stdout",
     "output_type": "stream",
     "text": [
      "Fitting 5 folds for each of 16 candidates, totalling 80 fits\n",
      "[CV] END max_depth=5, min_samples_leaf=5, min_samples_split=5, n_estimators=300; total time=  21.1s\n",
      "[CV] END max_depth=5, min_samples_leaf=5, min_samples_split=3, n_estimators=300; total time=  21.2s\n",
      "[CV] END max_depth=5, min_samples_leaf=5, min_samples_split=3, n_estimators=300; total time=  21.6s\n",
      "[CV] END max_depth=5, min_samples_leaf=5, min_samples_split=3, n_estimators=300; total time=  21.7s\n",
      "[CV] END max_depth=5, min_samples_leaf=5, min_samples_split=5, n_estimators=300; total time=  21.7s\n",
      "[CV] END max_depth=5, min_samples_leaf=5, min_samples_split=5, n_estimators=300; total time=  21.6s\n",
      "[CV] END max_depth=5, min_samples_leaf=5, min_samples_split=5, n_estimators=300; total time=  21.7s\n",
      "[CV] END max_depth=5, min_samples_leaf=5, min_samples_split=3, n_estimators=300; total time=  21.8s\n",
      "[CV] END max_depth=5, min_samples_leaf=5, min_samples_split=3, n_estimators=300; total time=  21.9s\n",
      "[CV] END max_depth=5, min_samples_leaf=5, min_samples_split=5, n_estimators=300; total time=  21.8s\n",
      "[CV] END max_depth=5, min_samples_leaf=5, min_samples_split=3, n_estimators=400; total time=  28.1s\n",
      "[CV] END max_depth=5, min_samples_leaf=5, min_samples_split=3, n_estimators=400; total time=  28.9s\n",
      "[CV] END max_depth=5, min_samples_leaf=5, min_samples_split=3, n_estimators=400; total time=  28.9s\n",
      "[CV] END max_depth=5, min_samples_leaf=5, min_samples_split=3, n_estimators=400; total time=  28.9s\n",
      "[CV] END max_depth=5, min_samples_leaf=5, min_samples_split=5, n_estimators=400; total time=  28.8s\n",
      "[CV] END max_depth=5, min_samples_leaf=5, min_samples_split=3, n_estimators=400; total time=  29.1s\n",
      "[CV] END max_depth=5, min_samples_leaf=10, min_samples_split=3, n_estimators=300; total time=  21.2s\n",
      "[CV] END max_depth=5, min_samples_leaf=10, min_samples_split=3, n_estimators=300; total time=  21.7s\n",
      "[CV] END max_depth=5, min_samples_leaf=10, min_samples_split=3, n_estimators=300; total time=  21.7s\n",
      "[CV] END max_depth=5, min_samples_leaf=10, min_samples_split=3, n_estimators=300; total time=  21.7s\n",
      "[CV] END max_depth=5, min_samples_leaf=10, min_samples_split=3, n_estimators=300; total time=  21.8s\n",
      "[CV] END max_depth=5, min_samples_leaf=5, min_samples_split=5, n_estimators=400; total time=  28.5s\n",
      "[CV] END max_depth=5, min_samples_leaf=5, min_samples_split=5, n_estimators=400; total time=  29.2s\n",
      "[CV] END max_depth=5, min_samples_leaf=5, min_samples_split=5, n_estimators=400; total time=  29.3s\n",
      "[CV] END max_depth=5, min_samples_leaf=5, min_samples_split=5, n_estimators=400; total time=  29.1s\n",
      "[CV] END max_depth=5, min_samples_leaf=10, min_samples_split=5, n_estimators=300; total time=  22.1s\n",
      "[CV] END max_depth=5, min_samples_leaf=10, min_samples_split=3, n_estimators=400; total time=  29.5s\n",
      "[CV] END max_depth=5, min_samples_leaf=10, min_samples_split=5, n_estimators=300; total time=  22.3s\n",
      "[CV] END max_depth=5, min_samples_leaf=10, min_samples_split=3, n_estimators=400; total time=  29.1s\n",
      "[CV] END max_depth=5, min_samples_leaf=10, min_samples_split=3, n_estimators=400; total time=  30.1s\n",
      "[CV] END max_depth=5, min_samples_leaf=10, min_samples_split=3, n_estimators=400; total time=  29.6s\n",
      "[CV] END max_depth=5, min_samples_leaf=10, min_samples_split=3, n_estimators=400; total time=  29.7s\n",
      "[CV] END max_depth=5, min_samples_leaf=10, min_samples_split=5, n_estimators=300; total time=  22.7s\n",
      "[CV] END max_depth=5, min_samples_leaf=10, min_samples_split=5, n_estimators=300; total time=  22.2s\n",
      "[CV] END max_depth=5, min_samples_leaf=10, min_samples_split=5, n_estimators=300; total time=  22.9s\n",
      "[CV] END max_depth=5, min_samples_leaf=10, min_samples_split=5, n_estimators=400; total time=  30.6s\n",
      "[CV] END max_depth=5, min_samples_leaf=10, min_samples_split=5, n_estimators=400; total time=  30.8s\n",
      "[CV] END max_depth=5, min_samples_leaf=10, min_samples_split=5, n_estimators=400; total time=  30.6s\n",
      "[CV] END max_depth=5, min_samples_leaf=10, min_samples_split=5, n_estimators=400; total time=  31.3s\n",
      "[CV] END max_depth=5, min_samples_leaf=10, min_samples_split=5, n_estimators=400; total time=  31.4s\n",
      "[CV] END max_depth=10, min_samples_leaf=5, min_samples_split=3, n_estimators=300; total time=  43.4s\n",
      "[CV] END max_depth=10, min_samples_leaf=5, min_samples_split=3, n_estimators=300; total time=  43.2s\n",
      "[CV] END max_depth=10, min_samples_leaf=5, min_samples_split=3, n_estimators=300; total time=  43.5s\n",
      "[CV] END max_depth=10, min_samples_leaf=5, min_samples_split=3, n_estimators=300; total time=  43.3s\n",
      "[CV] END max_depth=10, min_samples_leaf=5, min_samples_split=3, n_estimators=300; total time=  43.0s\n",
      "[CV] END max_depth=10, min_samples_leaf=5, min_samples_split=5, n_estimators=300; total time=  44.1s\n",
      "[CV] END max_depth=10, min_samples_leaf=5, min_samples_split=3, n_estimators=400; total time=  57.7s\n",
      "[CV] END max_depth=10, min_samples_leaf=5, min_samples_split=3, n_estimators=400; total time=  58.1s\n",
      "[CV] END max_depth=10, min_samples_leaf=5, min_samples_split=3, n_estimators=400; total time=  57.8s\n",
      "[CV] END max_depth=10, min_samples_leaf=5, min_samples_split=5, n_estimators=300; total time=  43.9s\n",
      "[CV] END max_depth=10, min_samples_leaf=5, min_samples_split=5, n_estimators=300; total time=  44.2s\n",
      "[CV] END max_depth=10, min_samples_leaf=5, min_samples_split=3, n_estimators=400; total time=  57.2s\n",
      "[CV] END max_depth=10, min_samples_leaf=5, min_samples_split=3, n_estimators=400; total time=  57.8s\n",
      "[CV] END max_depth=10, min_samples_leaf=5, min_samples_split=5, n_estimators=300; total time=  42.8s\n",
      "[CV] END max_depth=10, min_samples_leaf=5, min_samples_split=5, n_estimators=300; total time=  43.6s\n",
      "[CV] END max_depth=10, min_samples_leaf=5, min_samples_split=5, n_estimators=400; total time=  58.2s\n",
      "[CV] END max_depth=10, min_samples_leaf=10, min_samples_split=3, n_estimators=300; total time=  43.5s\n",
      "[CV] END max_depth=10, min_samples_leaf=5, min_samples_split=5, n_estimators=400; total time=  56.9s\n",
      "[CV] END max_depth=10, min_samples_leaf=5, min_samples_split=5, n_estimators=400; total time=  57.9s\n",
      "[CV] END max_depth=10, min_samples_leaf=5, min_samples_split=5, n_estimators=400; total time=  57.9s\n",
      "[CV] END max_depth=10, min_samples_leaf=5, min_samples_split=5, n_estimators=400; total time=  57.9s\n",
      "[CV] END max_depth=10, min_samples_leaf=10, min_samples_split=3, n_estimators=300; total time=  43.4s\n",
      "[CV] END max_depth=10, min_samples_leaf=10, min_samples_split=3, n_estimators=300; total time=  42.8s\n",
      "[CV] END max_depth=10, min_samples_leaf=10, min_samples_split=3, n_estimators=300; total time=  43.5s\n",
      "[CV] END max_depth=10, min_samples_leaf=10, min_samples_split=3, n_estimators=300; total time=  43.8s\n",
      "[CV] END max_depth=10, min_samples_leaf=10, min_samples_split=5, n_estimators=300; total time=  43.9s\n",
      "[CV] END max_depth=10, min_samples_leaf=10, min_samples_split=3, n_estimators=400; total time=  57.7s\n",
      "[CV] END max_depth=10, min_samples_leaf=10, min_samples_split=3, n_estimators=400; total time=  57.6s\n",
      "[CV] END max_depth=10, min_samples_leaf=10, min_samples_split=3, n_estimators=400; total time=  57.1s\n",
      "[CV] END max_depth=10, min_samples_leaf=10, min_samples_split=3, n_estimators=400; total time=  56.1s\n",
      "[CV] END max_depth=10, min_samples_leaf=10, min_samples_split=3, n_estimators=400; total time=  56.8s\n",
      "[CV] END max_depth=10, min_samples_leaf=10, min_samples_split=5, n_estimators=300; total time=  41.9s\n",
      "[CV] END max_depth=10, min_samples_leaf=10, min_samples_split=5, n_estimators=300; total time=  40.6s\n",
      "[CV] END max_depth=10, min_samples_leaf=10, min_samples_split=5, n_estimators=300; total time=  38.1s\n",
      "[CV] END max_depth=10, min_samples_leaf=10, min_samples_split=5, n_estimators=300; total time=  38.8s\n",
      "[CV] END max_depth=10, min_samples_leaf=10, min_samples_split=5, n_estimators=400; total time=  49.0s\n",
      "[CV] END max_depth=10, min_samples_leaf=10, min_samples_split=5, n_estimators=400; total time=  49.3s\n",
      "[CV] END max_depth=10, min_samples_leaf=10, min_samples_split=5, n_estimators=400; total time=  48.5s\n",
      "[CV] END max_depth=10, min_samples_leaf=10, min_samples_split=5, n_estimators=400; total time=  46.2s\n",
      "[CV] END max_depth=10, min_samples_leaf=10, min_samples_split=5, n_estimators=400; total time=  47.1s\n",
      "Meilleurs hyperparamètres trouvés: {'max_depth': 10, 'min_samples_leaf': 10, 'min_samples_split': 3, 'n_estimators': 400}\n",
      "Mean Squared Error (MSE): 4.101500414940123\n",
      "Coefficient de détermination (R2 Score): 0.6991977141942525\n"
     ]
    }
   ],
   "source": [
    "#  modèle Random Forest\n",
    "from sklearn.ensemble import RandomForestRegressor\n",
    "from sklearn.model_selection import GridSearchCV\n",
    "param_grid = {\n",
    "    'n_estimators': [300, 400],\n",
    "    'max_depth': [5,10 ],\n",
    "    'min_samples_split': [3, 5],\n",
    "    'min_samples_leaf': [5, 10],\n",
    "}\n",
    "\n",
    "# Modèle RandomForest\n",
    "rf_model = RandomForestRegressor(random_state=42)\n",
    "\n",
    "# RandomizedSearchCV pour optimiser les hyperparamètres\n",
    "rf_grid = GridSearchCV(estimator=rf_model, \n",
    "                       param_grid=param_grid, \n",
    "                       cv=5,  \n",
    "                       verbose=2, \n",
    "                       n_jobs=-1)  # Utiliser tous les cœurs disponibles\n",
    "\n",
    "# Entraîner le modèle avecGridSearchCV sur les données normalisées\n",
    "rf_grid.fit(X_train_normed, y_train)\n",
    "\n",
    "# Meilleurs hyperparamètres trouvés\n",
    "best_params = rf_grid.best_params_\n",
    "\n",
    "# Prédictions avec le modèle optimisé\n",
    "y_pred = rf_grid.best_estimator_.predict(X_test_normed)\n",
    "\n",
    "# Calcul du Mean Squared Error (MSE) et du R2 Score\n",
    "mse = root_mean_squared_error(y_test, y_pred)\n",
    "r2 = r2_score(y_test, y_pred)\n",
    "\n",
    "# Affichage des résultats\n",
    "print(\"Meilleurs hyperparamètres trouvés:\", best_params)\n",
    "print(\"Mean Squared Error (MSE):\", mse)\n",
    "print(\"Coefficient de détermination (R2 Score):\", r2)"
   ]
  },
  {
   "cell_type": "code",
   "execution_count": 9,
   "id": "6dc989b97f26cc0c",
   "metadata": {
    "ExecuteTime": {
     "end_time": "2024-10-07T11:34:42.113334Z",
     "start_time": "2024-10-07T11:34:39.953091Z"
    },
    "collapsed": false
   },
   "outputs": [],
   "source": [
    "# test data for Kaggle submission\n",
    "test = pd.read_parquet(\"data/nyc-taxis-tips/test_preprocessed.parquet\")\n",
    "\n",
    "test.drop(columns=[\"RatecodeID_6.0\"], inplace=True)\n",
    "columns_to_norm = [\n",
    "    'passenger_count',\n",
    "    'trip_distance', 'fare_amount', 'extra', 'mta_tax', 'tolls_amount',\n",
    "    'improvement_surcharge', 'congestion_surcharge', 'Airport_fee', 'duration'\n",
    "]\n",
    "cols_to_exclude = [\n",
    "    'PU_location_lat', 'PU_location_lon', 'DO_location_lat',\n",
    "    'DO_location_lon', 'PU_loc', 'DO_loc'\n",
    "]\n",
    "\n",
    "X_sub_excluded = test[cols_to_exclude]\n",
    "X_sub = test.drop(cols_to_exclude, axis=1)\n",
    "\n",
    "X_sub[columns_to_norm] = scaler.transform(X_sub[columns_to_norm])\n",
    "\n",
    "X_sub = pd.concat([X_sub, X_sub_excluded], axis=1)\n",
    "\n",
    "\n",
    "#predictions = model_ridge_CV.predict(X_sub)\n",
    "predictions = rf_grid.predict(X_sub)"
   ]
  },
  {
   "cell_type": "code",
   "execution_count": 10,
   "id": "3ac6277e0c6ff177",
   "metadata": {
    "ExecuteTime": {
     "end_time": "2024-10-07T11:43:42.490483Z",
     "start_time": "2024-10-07T11:43:42.293265Z"
    },
    "collapsed": false
   },
   "outputs": [
    {
     "data": {
      "text/html": [
       "<div>\n",
       "<style scoped>\n",
       "    .dataframe tbody tr th:only-of-type {\n",
       "        vertical-align: middle;\n",
       "    }\n",
       "\n",
       "    .dataframe tbody tr th {\n",
       "        vertical-align: top;\n",
       "    }\n",
       "\n",
       "    .dataframe thead th {\n",
       "        text-align: right;\n",
       "    }\n",
       "</style>\n",
       "<table border=\"1\" class=\"dataframe\">\n",
       "  <thead>\n",
       "    <tr style=\"text-align: right;\">\n",
       "      <th></th>\n",
       "      <th>row_ID</th>\n",
       "      <th>tip_amount</th>\n",
       "    </tr>\n",
       "  </thead>\n",
       "  <tbody>\n",
       "    <tr>\n",
       "      <th>0</th>\n",
       "      <td>0</td>\n",
       "      <td>1.657879</td>\n",
       "    </tr>\n",
       "    <tr>\n",
       "      <th>1</th>\n",
       "      <td>1</td>\n",
       "      <td>2.564245</td>\n",
       "    </tr>\n",
       "    <tr>\n",
       "      <th>2</th>\n",
       "      <td>2</td>\n",
       "      <td>0.000000</td>\n",
       "    </tr>\n",
       "    <tr>\n",
       "      <th>3</th>\n",
       "      <td>3</td>\n",
       "      <td>1.896428</td>\n",
       "    </tr>\n",
       "    <tr>\n",
       "      <th>4</th>\n",
       "      <td>4</td>\n",
       "      <td>0.000000</td>\n",
       "    </tr>\n",
       "    <tr>\n",
       "      <th>5</th>\n",
       "      <td>5</td>\n",
       "      <td>7.071094</td>\n",
       "    </tr>\n",
       "    <tr>\n",
       "      <th>6</th>\n",
       "      <td>6</td>\n",
       "      <td>4.343084</td>\n",
       "    </tr>\n",
       "    <tr>\n",
       "      <th>7</th>\n",
       "      <td>7</td>\n",
       "      <td>0.000000</td>\n",
       "    </tr>\n",
       "    <tr>\n",
       "      <th>8</th>\n",
       "      <td>8</td>\n",
       "      <td>4.258585</td>\n",
       "    </tr>\n",
       "    <tr>\n",
       "      <th>9</th>\n",
       "      <td>9</td>\n",
       "      <td>9.429999</td>\n",
       "    </tr>\n",
       "    <tr>\n",
       "      <th>10</th>\n",
       "      <td>10</td>\n",
       "      <td>6.316043</td>\n",
       "    </tr>\n",
       "    <tr>\n",
       "      <th>11</th>\n",
       "      <td>11</td>\n",
       "      <td>2.314886</td>\n",
       "    </tr>\n",
       "    <tr>\n",
       "      <th>12</th>\n",
       "      <td>12</td>\n",
       "      <td>3.923672</td>\n",
       "    </tr>\n",
       "    <tr>\n",
       "      <th>13</th>\n",
       "      <td>13</td>\n",
       "      <td>2.940272</td>\n",
       "    </tr>\n",
       "    <tr>\n",
       "      <th>14</th>\n",
       "      <td>14</td>\n",
       "      <td>3.064815</td>\n",
       "    </tr>\n",
       "  </tbody>\n",
       "</table>\n",
       "</div>"
      ],
      "text/plain": [
       "    row_ID  tip_amount\n",
       "0        0    1.657879\n",
       "1        1    2.564245\n",
       "2        2    0.000000\n",
       "3        3    1.896428\n",
       "4        4    0.000000\n",
       "5        5    7.071094\n",
       "6        6    4.343084\n",
       "7        7    0.000000\n",
       "8        8    4.258585\n",
       "9        9    9.429999\n",
       "10      10    6.316043\n",
       "11      11    2.314886\n",
       "12      12    3.923672\n",
       "13      13    2.940272\n",
       "14      14    3.064815"
      ]
     },
     "metadata": {},
     "output_type": "display_data"
    },
    {
     "name": "stdout",
     "output_type": "stream",
     "text": [
      "0\n"
     ]
    }
   ],
   "source": [
    "df_pred = pd.DataFrame(predictions, columns=[\"tip_amount\"]).reset_index().rename(columns={\"index\": \"row_ID\"})\n",
    "display(df_pred.head(15))\n",
    "print(sum(df_pred[\"tip_amount\"]<0))\n",
    "df_pred.loc[df_pred.tip_amount < 0, \"tip_amount\"] = 0\n",
    "#df_pred.to_parquet(\"submission/nyc-taxis-tips/regression_sub_1bis.parquet\", index=False)\n",
    "df_pred.to_parquet(\"submission/nyc-taxis-tips/RF_sub_1bis.parquet\", index=False)"
   ]
  },
  {
   "cell_type": "code",
   "execution_count": null,
   "id": "105d6879",
   "metadata": {},
   "outputs": [],
   "source": []
  },
  {
   "cell_type": "code",
   "execution_count": 11,
   "id": "e73aeb3e5cad03ed",
   "metadata": {
    "ExecuteTime": {
     "end_time": "2024-10-07T11:34:49.395583Z",
     "start_time": "2024-10-07T11:34:49.387655Z"
    },
    "collapsed": false
   },
   "outputs": [
    {
     "data": {
      "text/html": [
       "<div>\n",
       "<style scoped>\n",
       "    .dataframe tbody tr th:only-of-type {\n",
       "        vertical-align: middle;\n",
       "    }\n",
       "\n",
       "    .dataframe tbody tr th {\n",
       "        vertical-align: top;\n",
       "    }\n",
       "\n",
       "    .dataframe thead th {\n",
       "        text-align: right;\n",
       "    }\n",
       "</style>\n",
       "<table border=\"1\" class=\"dataframe\">\n",
       "  <thead>\n",
       "    <tr style=\"text-align: right;\">\n",
       "      <th></th>\n",
       "      <th>row_ID</th>\n",
       "      <th>tip_amount</th>\n",
       "    </tr>\n",
       "  </thead>\n",
       "  <tbody>\n",
       "    <tr>\n",
       "      <th>0</th>\n",
       "      <td>0</td>\n",
       "      <td>1.657879</td>\n",
       "    </tr>\n",
       "    <tr>\n",
       "      <th>1</th>\n",
       "      <td>1</td>\n",
       "      <td>2.564245</td>\n",
       "    </tr>\n",
       "    <tr>\n",
       "      <th>2</th>\n",
       "      <td>2</td>\n",
       "      <td>0.000000</td>\n",
       "    </tr>\n",
       "    <tr>\n",
       "      <th>3</th>\n",
       "      <td>3</td>\n",
       "      <td>1.896428</td>\n",
       "    </tr>\n",
       "    <tr>\n",
       "      <th>4</th>\n",
       "      <td>4</td>\n",
       "      <td>0.000000</td>\n",
       "    </tr>\n",
       "    <tr>\n",
       "      <th>5</th>\n",
       "      <td>5</td>\n",
       "      <td>7.071094</td>\n",
       "    </tr>\n",
       "    <tr>\n",
       "      <th>6</th>\n",
       "      <td>6</td>\n",
       "      <td>4.343084</td>\n",
       "    </tr>\n",
       "    <tr>\n",
       "      <th>7</th>\n",
       "      <td>7</td>\n",
       "      <td>0.000000</td>\n",
       "    </tr>\n",
       "    <tr>\n",
       "      <th>8</th>\n",
       "      <td>8</td>\n",
       "      <td>4.258585</td>\n",
       "    </tr>\n",
       "    <tr>\n",
       "      <th>9</th>\n",
       "      <td>9</td>\n",
       "      <td>9.429999</td>\n",
       "    </tr>\n",
       "    <tr>\n",
       "      <th>10</th>\n",
       "      <td>10</td>\n",
       "      <td>6.316043</td>\n",
       "    </tr>\n",
       "    <tr>\n",
       "      <th>11</th>\n",
       "      <td>11</td>\n",
       "      <td>2.314886</td>\n",
       "    </tr>\n",
       "    <tr>\n",
       "      <th>12</th>\n",
       "      <td>12</td>\n",
       "      <td>3.923672</td>\n",
       "    </tr>\n",
       "    <tr>\n",
       "      <th>13</th>\n",
       "      <td>13</td>\n",
       "      <td>2.940272</td>\n",
       "    </tr>\n",
       "    <tr>\n",
       "      <th>14</th>\n",
       "      <td>14</td>\n",
       "      <td>3.064815</td>\n",
       "    </tr>\n",
       "    <tr>\n",
       "      <th>15</th>\n",
       "      <td>15</td>\n",
       "      <td>2.790345</td>\n",
       "    </tr>\n",
       "    <tr>\n",
       "      <th>16</th>\n",
       "      <td>16</td>\n",
       "      <td>4.833476</td>\n",
       "    </tr>\n",
       "    <tr>\n",
       "      <th>17</th>\n",
       "      <td>17</td>\n",
       "      <td>3.036116</td>\n",
       "    </tr>\n",
       "    <tr>\n",
       "      <th>18</th>\n",
       "      <td>18</td>\n",
       "      <td>2.627393</td>\n",
       "    </tr>\n",
       "    <tr>\n",
       "      <th>19</th>\n",
       "      <td>19</td>\n",
       "      <td>4.361777</td>\n",
       "    </tr>\n",
       "    <tr>\n",
       "      <th>20</th>\n",
       "      <td>20</td>\n",
       "      <td>2.410365</td>\n",
       "    </tr>\n",
       "    <tr>\n",
       "      <th>21</th>\n",
       "      <td>21</td>\n",
       "      <td>2.467924</td>\n",
       "    </tr>\n",
       "    <tr>\n",
       "      <th>22</th>\n",
       "      <td>22</td>\n",
       "      <td>3.327777</td>\n",
       "    </tr>\n",
       "    <tr>\n",
       "      <th>23</th>\n",
       "      <td>23</td>\n",
       "      <td>0.000000</td>\n",
       "    </tr>\n",
       "    <tr>\n",
       "      <th>24</th>\n",
       "      <td>24</td>\n",
       "      <td>3.392787</td>\n",
       "    </tr>\n",
       "  </tbody>\n",
       "</table>\n",
       "</div>"
      ],
      "text/plain": [
       "    row_ID  tip_amount\n",
       "0        0    1.657879\n",
       "1        1    2.564245\n",
       "2        2    0.000000\n",
       "3        3    1.896428\n",
       "4        4    0.000000\n",
       "5        5    7.071094\n",
       "6        6    4.343084\n",
       "7        7    0.000000\n",
       "8        8    4.258585\n",
       "9        9    9.429999\n",
       "10      10    6.316043\n",
       "11      11    2.314886\n",
       "12      12    3.923672\n",
       "13      13    2.940272\n",
       "14      14    3.064815\n",
       "15      15    2.790345\n",
       "16      16    4.833476\n",
       "17      17    3.036116\n",
       "18      18    2.627393\n",
       "19      19    4.361777\n",
       "20      20    2.410365\n",
       "21      21    2.467924\n",
       "22      22    3.327777\n",
       "23      23    0.000000\n",
       "24      24    3.392787"
      ]
     },
     "execution_count": 11,
     "metadata": {},
     "output_type": "execute_result"
    }
   ],
   "source": [
    "df_pred.head(25)"
   ]
  },
  {
   "cell_type": "code",
   "execution_count": 12,
   "id": "58f6c6bba1152058",
   "metadata": {
    "ExecuteTime": {
     "end_time": "2024-10-07T11:34:52.567030Z",
     "start_time": "2024-10-07T11:34:51.757270Z"
    },
    "collapsed": false
   },
   "outputs": [
    {
     "data": {
      "text/plain": [
       "<Axes: xlabel='tip_amount', ylabel='Count'>"
      ]
     },
     "execution_count": 12,
     "metadata": {},
     "output_type": "execute_result"
    },
    {
     "data": {
      "image/png": "[encoded data removed]",
      "text/plain": [
       "<Figure size 640x480 with 1 Axes>"
      ]
     },
     "metadata": {},
     "output_type": "display_data"
    }
   ],
   "source": [
    "sns.histplot(df_pred, x=\"tip_amount\", bins=125)"
   ]
  },
  {
   "cell_type": "code",
   "execution_count": null,
   "id": "75931508",
   "metadata": {},
   "outputs": [],
   "source": []
  }
 ],
 "metadata": {
  "kernelspec": {
   "display_name": "Python 3",
   "language": "python",
   "name": "python3"
  },
  "language_info": {
   "codemirror_mode": {
    "name": "ipython",
    "version": 3
   },
   "file_extension": ".py",
   "mimetype": "text/x-python",
   "name": "python",
   "nbconvert_exporter": "python",
   "pygments_lexer": "ipython3",
   "version": "3.9.6"
  }
 },
 "nbformat": 4,
 "nbformat_minor": 5
}
