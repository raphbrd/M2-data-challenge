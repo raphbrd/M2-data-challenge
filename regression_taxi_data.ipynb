{
 "cells": [
  {
   "cell_type": "code",
   "outputs": [],
   "source": [
    "import pandas as pd\n",
    "import numpy as np\n",
    "import pyarrow.parquet as pq\n",
    "import seaborn as sns\n",
    "import matplotlib.pyplot as plt\n",
    "from sklearn.model_selection import train_test_split\n",
    "from sklearn.preprocessing import StandardScaler\n",
    "from sklearn.linear_model import Lasso, Ridge\n",
    "from sklearn.linear_model import LassoCV, RidgeCV\n",
    "from utils import *\n",
    "from sklearn.metrics import mean_squared_error, r2_score"
   ],
   "metadata": {
    "collapsed": false,
    "ExecuteTime": {
     "end_time": "2024-10-07T11:34:32.281364Z",
     "start_time": "2024-10-07T11:34:32.264916Z"
    }
   },
   "id": "c7b0865fc0e5cc4f",
   "execution_count": 97
  },
  {
   "cell_type": "code",
   "outputs": [
    {
     "data": {
      "text/plain": "Index(['tpep_pickup_datetime', 'tpep_dropoff_datetime', 'passenger_count',\n       'trip_distance', 'fare_amount', 'extra', 'mta_tax', 'tolls_amount',\n       'improvement_surcharge', 'congestion_surcharge', 'Airport_fee',\n       'PU_location_lat', 'PU_location_lon', 'DO_location_lat',\n       'DO_location_lon', 'hour', 'is_rush_hour', 'duration', 'PU_loc',\n       'DO_loc', 'VendorID_1', 'VendorID_2', 'RatecodeID_1.0',\n       'RatecodeID_2.0', 'RatecodeID_3.0', 'RatecodeID_4.0', 'RatecodeID_5.0',\n       'RatecodeID_99.0', 'store_and_fwd_flag_N', 'store_and_fwd_flag_Y',\n       'payment_type_1', 'payment_type_2', 'payment_type_3', 'payment_type_4',\n       'PU_borough_7', 'PU_borough_1', 'PU_borough_3', 'PU_borough_4',\n       'PU_borough_2', 'PU_borough_6', 'PU_borough_5', 'DO_borough_7',\n       'DO_borough_1', 'DO_borough_3', 'DO_borough_4', 'DO_borough_2',\n       'DO_borough_6', 'DO_borough_5', 'day_of_week_Friday',\n       'day_of_week_Monday', 'day_of_week_Saturday', 'day_of_week_Sunday',\n       'day_of_week_Thursday', 'day_of_week_Tuesday', 'day_of_week_Wednesday'],\n      dtype='object')"
     },
     "metadata": {},
     "output_type": "display_data"
    }
   ],
   "source": [
    "df_train = pd.read_parquet(\"data/nyc-taxis-tips/train_preprocessed.parquet\")\n",
    "X = df_train.drop(\"tip_amount\", axis=1)\n",
    "Y = df_train['tip_amount']\n",
    "display(X.columns)"
   ],
   "metadata": {
    "collapsed": false,
    "ExecuteTime": {
     "end_time": "2024-10-07T11:34:32.348975Z",
     "start_time": "2024-10-07T11:34:32.283326Z"
    }
   },
   "id": "b235b4df69d94868",
   "execution_count": 98
  },
  {
   "cell_type": "markdown",
   "source": [
    "# Ridge regression\n",
    "\n",
    "All this code is from TP_reg-1 (copy paste for clarity in a separate notebook without exploratory data analysis)"
   ],
   "metadata": {
    "collapsed": false
   },
   "id": "cbede8f09e3176d7"
  },
  {
   "cell_type": "code",
   "outputs": [
    {
     "name": "stdout",
     "output_type": "stream",
     "text": [
      "(75000, 55) (25000, 55)\n"
     ]
    }
   ],
   "source": [
    "# divise les données \n",
    "X_train, X_test, y_train, y_test = train_test_split(X, Y, test_size=0.25, random_state=42)\n",
    "\n",
    "print(X_train.shape, X_test.shape)"
   ],
   "metadata": {
    "collapsed": false,
    "ExecuteTime": {
     "end_time": "2024-10-07T11:34:32.384197Z",
     "start_time": "2024-10-07T11:34:32.350766Z"
    }
   },
   "id": "26750e021654962a",
   "execution_count": 99
  },
  {
   "cell_type": "code",
   "outputs": [],
   "source": [
    "# normaliser les données \n",
    "\n",
    "# Séparation des colonnes encodées (one-hot encoded) et des colonnes numériques à normaliser\n",
    "columns_to_norm = [\n",
    "    'passenger_count',\n",
    "    'trip_distance', 'fare_amount', 'extra', 'mta_tax', 'tolls_amount',\n",
    "    'improvement_surcharge', 'congestion_surcharge', 'Airport_fee',\n",
    "    'hour', 'duration'\n",
    "]\n",
    "cols_to_exclude = [\n",
    "    'tpep_pickup_datetime', 'tpep_dropoff_datetime',\n",
    "    'PU_location_lat', 'PU_location_lon', 'DO_location_lat',\n",
    "    'DO_location_lon', 'PU_loc', 'DO_loc',\n",
    "]\n",
    "X_train = X_train.drop(cols_to_exclude, axis=1)\n",
    "X_test = X_test.drop(cols_to_exclude, axis=1)\n",
    "\n",
    "# Normaliser les colonnes numériques de l'ensemble d'entraînement\n",
    "scaler = StandardScaler()\n",
    "X_train_normed = X_train.copy()\n",
    "X_test_normed = X_test.copy()\n",
    "\n",
    "# Normalisation sur l'ensemble d'entraînement\n",
    "X_train_normed[columns_to_norm] = scaler.fit_transform(X_train[columns_to_norm])\n",
    "\n",
    "# Appliquer la même transformation sur l'ensemble de test\n",
    "X_test_normed[columns_to_norm] = scaler.transform(X_test[columns_to_norm])"
   ],
   "metadata": {
    "collapsed": false,
    "ExecuteTime": {
     "end_time": "2024-10-07T11:34:32.437402Z",
     "start_time": "2024-10-07T11:34:32.384929Z"
    }
   },
   "id": "b7a26c97f1dfb962",
   "execution_count": 100
  },
  {
   "cell_type": "code",
   "outputs": [
    {
     "name": "stdout",
     "output_type": "stream",
     "text": [
      "Mean Squared Error (MSE): 5.32042050920645\n",
      "Coefficient de détermination (R2 Score): 0.60980263593599\n",
      "meilleur alpha :  22.676767676767675\n"
     ]
    }
   ],
   "source": [
    "# Modèle Ridge : \n",
    "model_ridge_CV = RidgeCV(alphas=np.linspace(15, 25, 100))\n",
    "model_ridge_CV.fit(X_train_normed, y_train)\n",
    "y_pred = model_ridge_CV.predict(X_test_normed)\n",
    "\n",
    "mse = mean_squared_error(y_test, y_pred)\n",
    "r2 = r2_score(y_test, y_pred)\n",
    "\n",
    "# Affichage des résultats\n",
    "print(\"Mean Squared Error (MSE):\", mse)\n",
    "print(\"Coefficient de détermination (R2 Score):\", r2)\n",
    "print(\"meilleur alpha : \", model_ridge_CV.alpha_)"
   ],
   "metadata": {
    "collapsed": false,
    "ExecuteTime": {
     "end_time": "2024-10-07T11:34:34.795025Z",
     "start_time": "2024-10-07T11:34:32.438685Z"
    }
   },
   "id": "95988380d28642ef",
   "execution_count": 101
  },
  {
   "cell_type": "code",
   "outputs": [],
   "source": [
    "# test data for Kaggle submission\n",
    "test = pd.read_parquet(\"data/nyc-taxis-tips/test_preprocessed.parquet\")\n",
    "\n",
    "columns_to_norm = [\n",
    "    'passenger_count',\n",
    "    'trip_distance', 'fare_amount', 'extra', 'mta_tax', 'tolls_amount',\n",
    "    'improvement_surcharge', 'congestion_surcharge', 'Airport_fee',\n",
    "    'hour', 'duration'\n",
    "]\n",
    "cols_to_exclude = [\n",
    "    'tpep_pickup_datetime', 'tpep_dropoff_datetime',\n",
    "    'PU_location_lat', 'PU_location_lon', 'DO_location_lat',\n",
    "    'DO_location_lon', 'PU_loc', 'DO_loc', \n",
    "    'RatecodeID_6.0', # not in training data\n",
    "]\n",
    "X_sub = test.drop(cols_to_exclude, axis=1)\n",
    "\n",
    "X_sub[columns_to_norm] = scaler.transform(X_sub[columns_to_norm])\n",
    "\n",
    "predictions = model_ridge_CV.predict(X_sub)"
   ],
   "metadata": {
    "collapsed": false,
    "ExecuteTime": {
     "end_time": "2024-10-07T11:34:42.113334Z",
     "start_time": "2024-10-07T11:34:39.953091Z"
    }
   },
   "id": "6dc989b97f26cc0c",
   "execution_count": 103
  },
  {
   "cell_type": "code",
   "outputs": [
    {
     "data": {
      "text/plain": "    row_ID  tip_amount\n0        0    8.493263\n1        1    3.174099\n2        2    3.716245\n3        3    4.397425\n4        4    3.237968\n5        5    5.888253\n6        6    3.231023\n7        7   -0.840624\n8        8   13.365689\n9        9    3.960390\n10      10    3.670670\n11      11    2.901081\n12      12    2.688437\n13      13    2.811288\n14      14    2.997436",
      "text/html": "<div>\n<style scoped>\n    .dataframe tbody tr th:only-of-type {\n        vertical-align: middle;\n    }\n\n    .dataframe tbody tr th {\n        vertical-align: top;\n    }\n\n    .dataframe thead th {\n        text-align: right;\n    }\n</style>\n<table border=\"1\" class=\"dataframe\">\n  <thead>\n    <tr style=\"text-align: right;\">\n      <th></th>\n      <th>row_ID</th>\n      <th>tip_amount</th>\n    </tr>\n  </thead>\n  <tbody>\n    <tr>\n      <th>0</th>\n      <td>0</td>\n      <td>8.493263</td>\n    </tr>\n    <tr>\n      <th>1</th>\n      <td>1</td>\n      <td>3.174099</td>\n    </tr>\n    <tr>\n      <th>2</th>\n      <td>2</td>\n      <td>3.716245</td>\n    </tr>\n    <tr>\n      <th>3</th>\n      <td>3</td>\n      <td>4.397425</td>\n    </tr>\n    <tr>\n      <th>4</th>\n      <td>4</td>\n      <td>3.237968</td>\n    </tr>\n    <tr>\n      <th>5</th>\n      <td>5</td>\n      <td>5.888253</td>\n    </tr>\n    <tr>\n      <th>6</th>\n      <td>6</td>\n      <td>3.231023</td>\n    </tr>\n    <tr>\n      <th>7</th>\n      <td>7</td>\n      <td>-0.840624</td>\n    </tr>\n    <tr>\n      <th>8</th>\n      <td>8</td>\n      <td>13.365689</td>\n    </tr>\n    <tr>\n      <th>9</th>\n      <td>9</td>\n      <td>3.960390</td>\n    </tr>\n    <tr>\n      <th>10</th>\n      <td>10</td>\n      <td>3.670670</td>\n    </tr>\n    <tr>\n      <th>11</th>\n      <td>11</td>\n      <td>2.901081</td>\n    </tr>\n    <tr>\n      <th>12</th>\n      <td>12</td>\n      <td>2.688437</td>\n    </tr>\n    <tr>\n      <th>13</th>\n      <td>13</td>\n      <td>2.811288</td>\n    </tr>\n    <tr>\n      <th>14</th>\n      <td>14</td>\n      <td>2.997436</td>\n    </tr>\n  </tbody>\n</table>\n</div>"
     },
     "metadata": {},
     "output_type": "display_data"
    }
   ],
   "source": [
    "df_pred = pd.DataFrame(predictions, columns=[\"tip_amount\"]).reset_index().rename(columns={\"index\": \"row_ID\"})\n",
    "display(df_pred.head(15))\n",
    "df_pred.loc[df_pred.tip_amount < 0, \"tip_amount\"] = 0\n",
    "df_pred.to_parquet(\"submission/nyc-taxis-tips/regression_sub_1bis.parquet\", index=False)"
   ],
   "metadata": {
    "collapsed": false,
    "ExecuteTime": {
     "end_time": "2024-10-07T11:43:42.490483Z",
     "start_time": "2024-10-07T11:43:42.293265Z"
    }
   },
   "id": "3ac6277e0c6ff177",
   "execution_count": 107
  },
  {
   "cell_type": "code",
   "outputs": [
    {
     "data": {
      "text/plain": "    row_ID  tip_amount\n0        0    8.493263\n1        1    3.174099\n2        2    3.716245\n3        3    4.397425\n4        4    3.237968\n5        5    5.888253\n6        6    3.231023\n7        7    0.000000\n8        8   13.365689\n9        9    3.960390\n10      10    3.670670\n11      11    2.901081\n12      12    2.688437\n13      13    2.811288\n14      14    2.997436\n15      15    4.275111\n16      16    4.085408\n17      17    3.477912\n18      18    4.108926\n19      19    0.000000\n20      20    2.595969\n21      21    0.000000\n22      22    4.042572\n23      23    4.694912\n24      24   12.813951",
      "text/html": "<div>\n<style scoped>\n    .dataframe tbody tr th:only-of-type {\n        vertical-align: middle;\n    }\n\n    .dataframe tbody tr th {\n        vertical-align: top;\n    }\n\n    .dataframe thead th {\n        text-align: right;\n    }\n</style>\n<table border=\"1\" class=\"dataframe\">\n  <thead>\n    <tr style=\"text-align: right;\">\n      <th></th>\n      <th>row_ID</th>\n      <th>tip_amount</th>\n    </tr>\n  </thead>\n  <tbody>\n    <tr>\n      <th>0</th>\n      <td>0</td>\n      <td>8.493263</td>\n    </tr>\n    <tr>\n      <th>1</th>\n      <td>1</td>\n      <td>3.174099</td>\n    </tr>\n    <tr>\n      <th>2</th>\n      <td>2</td>\n      <td>3.716245</td>\n    </tr>\n    <tr>\n      <th>3</th>\n      <td>3</td>\n      <td>4.397425</td>\n    </tr>\n    <tr>\n      <th>4</th>\n      <td>4</td>\n      <td>3.237968</td>\n    </tr>\n    <tr>\n      <th>5</th>\n      <td>5</td>\n      <td>5.888253</td>\n    </tr>\n    <tr>\n      <th>6</th>\n      <td>6</td>\n      <td>3.231023</td>\n    </tr>\n    <tr>\n      <th>7</th>\n      <td>7</td>\n      <td>0.000000</td>\n    </tr>\n    <tr>\n      <th>8</th>\n      <td>8</td>\n      <td>13.365689</td>\n    </tr>\n    <tr>\n      <th>9</th>\n      <td>9</td>\n      <td>3.960390</td>\n    </tr>\n    <tr>\n      <th>10</th>\n      <td>10</td>\n      <td>3.670670</td>\n    </tr>\n    <tr>\n      <th>11</th>\n      <td>11</td>\n      <td>2.901081</td>\n    </tr>\n    <tr>\n      <th>12</th>\n      <td>12</td>\n      <td>2.688437</td>\n    </tr>\n    <tr>\n      <th>13</th>\n      <td>13</td>\n      <td>2.811288</td>\n    </tr>\n    <tr>\n      <th>14</th>\n      <td>14</td>\n      <td>2.997436</td>\n    </tr>\n    <tr>\n      <th>15</th>\n      <td>15</td>\n      <td>4.275111</td>\n    </tr>\n    <tr>\n      <th>16</th>\n      <td>16</td>\n      <td>4.085408</td>\n    </tr>\n    <tr>\n      <th>17</th>\n      <td>17</td>\n      <td>3.477912</td>\n    </tr>\n    <tr>\n      <th>18</th>\n      <td>18</td>\n      <td>4.108926</td>\n    </tr>\n    <tr>\n      <th>19</th>\n      <td>19</td>\n      <td>0.000000</td>\n    </tr>\n    <tr>\n      <th>20</th>\n      <td>20</td>\n      <td>2.595969</td>\n    </tr>\n    <tr>\n      <th>21</th>\n      <td>21</td>\n      <td>0.000000</td>\n    </tr>\n    <tr>\n      <th>22</th>\n      <td>22</td>\n      <td>4.042572</td>\n    </tr>\n    <tr>\n      <th>23</th>\n      <td>23</td>\n      <td>4.694912</td>\n    </tr>\n    <tr>\n      <th>24</th>\n      <td>24</td>\n      <td>12.813951</td>\n    </tr>\n  </tbody>\n</table>\n</div>"
     },
     "execution_count": 105,
     "metadata": {},
     "output_type": "execute_result"
    }
   ],
   "source": [
    "df_pred.head(25)"
   ],
   "metadata": {
    "collapsed": false,
    "ExecuteTime": {
     "end_time": "2024-10-07T11:34:49.395583Z",
     "start_time": "2024-10-07T11:34:49.387655Z"
    }
   },
   "id": "e73aeb3e5cad03ed",
   "execution_count": 105
  },
  {
   "cell_type": "code",
   "outputs": [
    {
     "data": {
      "text/plain": "<Axes: xlabel='tip_amount', ylabel='Count'>"
     },
     "execution_count": 106,
     "metadata": {},
     "output_type": "execute_result"
    },
    {
     "data": {
      "text/plain": "<Figure size 640x480 with 1 Axes>",
      "image/png": "[encoded data removed]"
     },
     "metadata": {},
     "output_type": "display_data"
    }
   ],
   "source": [
    "sns.histplot(df_pred, x=\"tip_amount\", bins=125)"
   ],
   "metadata": {
    "collapsed": false,
    "ExecuteTime": {
     "end_time": "2024-10-07T11:34:52.567030Z",
     "start_time": "2024-10-07T11:34:51.757270Z"
    }
   },
   "id": "58f6c6bba1152058",
   "execution_count": 106
  }
 ],
 "metadata": {
  "kernelspec": {
   "display_name": "Python 3",
   "language": "python",
   "name": "python3"
  },
  "language_info": {
   "codemirror_mode": {
    "name": "ipython",
    "version": 2
   },
   "file_extension": ".py",
   "mimetype": "text/x-python",
   "name": "python",
   "nbconvert_exporter": "python",
   "pygments_lexer": "ipython2",
   "version": "2.7.6"
  }
 },
 "nbformat": 4,
 "nbformat_minor": 5
}
